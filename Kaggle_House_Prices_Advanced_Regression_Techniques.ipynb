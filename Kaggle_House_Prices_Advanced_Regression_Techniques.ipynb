{
  "nbformat": 4,
  "nbformat_minor": 0,
  "metadata": {
    "colab": {
      "provenance": [],
      "authorship_tag": "ABX9TyMy5YR+BMiTx1QjjBQzODON",
      "include_colab_link": true
    },
    "kernelspec": {
      "name": "python3",
      "display_name": "Python 3"
    },
    "language_info": {
      "name": "python"
    }
  },
  "cells": [
    {
      "cell_type": "markdown",
      "metadata": {
        "id": "view-in-github",
        "colab_type": "text"
      },
      "source": [
        "<a href=\"https://colab.research.google.com/github/slajan01/house_prices/blob/main/Kaggle_House_Prices_Advanced_Regression_Techniques.ipynb\" target=\"_parent\"><img src=\"https://colab.research.google.com/assets/colab-badge.svg\" alt=\"Open In Colab\"/></a>"
      ]
    },
    {
      "cell_type": "code",
      "source": [
        "import numpy as np\n",
        "import pandas as pd\n",
        "from tensorflow.keras.layers import Input, Dense\n",
        "from tensorflow.keras.models import Sequential\n",
        "from sklearn.model_selection import train_test_split\n",
        "from sklearn.preprocessing import StandardScaler, OneHotEncoder\n",
        "from sklearn.compose import ColumnTransformer\n",
        "from sklearn.impute import SimpleImputer\n",
        "\n",
        "# Načtení dat\n",
        "data = pd.read_csv(\"/content/train.csv\")\n",
        "blank_data = pd.read_csv(\"/content/test.csv\")\n",
        "sample_submission = pd.read_csv(\"/content/sample_submission.csv\")\n",
        "\n",
        "# Příprava dat\n",
        "X = data.drop(\"SalePrice\", axis=1)\n",
        "y = data[\"SalePrice\"]\n",
        "\n",
        "# Identifikace kategorických a numerických sloupců\n",
        "categorical_columns = X.select_dtypes(include=['object']).columns\n",
        "numerical_columns = X.select_dtypes(exclude=['object']).columns\n",
        "\n",
        "# Ošetření NaN hodnot\n",
        "numerical_imputer = SimpleImputer(strategy='mean')\n",
        "X[numerical_columns] = numerical_imputer.fit_transform(X[numerical_columns])\n",
        "\n",
        "categorical_imputer = SimpleImputer(strategy='most_frequent')\n",
        "X[categorical_columns] = categorical_imputer.fit_transform(X[categorical_columns])\n",
        "\n",
        "# One-Hot Encoding pro kategorické sloupce\n",
        "preprocessor = ColumnTransformer(\n",
        "    transformers=[\n",
        "        ('num', StandardScaler(), numerical_columns),\n",
        "        ('cat', OneHotEncoder(handle_unknown='ignore'), categorical_columns)\n",
        "    ])\n",
        "\n",
        "X_processed = preprocessor.fit_transform(X)\n",
        "X_train, X_test, y_train, y_test = train_test_split(X_processed, y, test_size=0.2, random_state=0)\n",
        "\n",
        "# Definice modelu\n",
        "model = Sequential()\n",
        "model.add(Input(shape=(X_train.shape[1],)))\n",
        "model.add(Dense(128, activation=\"relu\"))\n",
        "model.add(Dense(128, activation=\"relu\"))\n",
        "model.add(Dense(1))\n",
        "\n",
        "model.compile(optimizer=\"adam\", loss=\"mse\", metrics=[\"mae\"])\n",
        "\n",
        "# Trénování modelu\n",
        "model.fit(X_train, y_train, epochs=130, batch_size=16, verbose=0)\n",
        "\n",
        "# Vyhodnocení modelu\n",
        "test_mse_score, test_mae_score = model.evaluate(X_test, y_test)\n",
        "print(f'Test MSE: {test_mse_score}, Test MAE: {test_mae_score}')\n",
        "\n",
        "# Predikce\n",
        "blank_data[numerical_columns] = numerical_imputer.transform(blank_data[numerical_columns])\n",
        "blank_data[categorical_columns] = categorical_imputer.transform(blank_data[categorical_columns])\n",
        "blank_data_processed = preprocessor.transform(blank_data)\n",
        "predictions = model.predict(blank_data_processed)\n",
        "output = pd.DataFrame({'Id': sample_submission.Id, 'SalePrice': predictions.flatten()})\n",
        "output.to_csv('submission.csv', index=False)\n",
        "print(\"Your submission was successfully saved!\")"
      ],
      "metadata": {
        "colab": {
          "base_uri": "https://localhost:8080/"
        },
        "id": "68VxGv8cv9Ye",
        "outputId": "79add032-47a5-4776-b9db-f2470bc46186"
      },
      "execution_count": 15,
      "outputs": [
        {
          "output_type": "stream",
          "name": "stdout",
          "text": [
            "\u001b[1m10/10\u001b[0m \u001b[32m━━━━━━━━━━━━━━━━━━━━\u001b[0m\u001b[37m\u001b[0m \u001b[1m0s\u001b[0m 3ms/step - loss: 1419358080.0000 - mae: 20037.5156  \n",
            "Test MSE: 2047358080.0, Test MAE: 19655.275390625\n",
            "\u001b[1m46/46\u001b[0m \u001b[32m━━━━━━━━━━━━━━━━━━━━\u001b[0m\u001b[37m\u001b[0m \u001b[1m0s\u001b[0m 5ms/step\n",
            "Your submission was successfully saved!\n"
          ]
        }
      ]
    }
  ]
}